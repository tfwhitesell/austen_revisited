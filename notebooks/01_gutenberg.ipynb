{
 "cells": [
  {
   "cell_type": "markdown",
   "metadata": {},
   "source": [
    "First thing to do is get the texts from Project Gutenberg.\n",
    "\n",
    "Use method from this website to get text IDs:\n",
    "\n",
    "https://skeptric.com/gutenberg/"
   ]
  },
  {
   "cell_type": "markdown",
   "metadata": {},
   "source": [
    "Keep this package in mind for tokenization:\n",
    "\n",
    "https://pypi.org/project/semchunk/"
   ]
  },
  {
   "cell_type": "code",
   "execution_count": 1,
   "metadata": {},
   "outputs": [],
   "source": [
    "import csv\n",
    "from collections import Counter\n",
    "from io import BytesIO, StringIO\n",
    "from pathlib import Path\n",
    "import requests\n",
    "import pandas as pd\n",
    "# import gutenbergpy.textget\n",
    "import json\n",
    "from bs4 import BeautifulSoup\n",
    "import re"
   ]
  },
  {
   "cell_type": "code",
   "execution_count": 2,
   "metadata": {},
   "outputs": [],
   "source": [
    "# get catalog from Gutenberg\n",
    "gut_cat = 'https://www.gutenberg.org/cache/epub/feeds/pg_catalog.csv.gz'\n",
    "\n",
    "r = requests.get(gut_cat)\n",
    "csv_text = r.content.decode('utf-8')"
   ]
  },
  {
   "cell_type": "code",
   "execution_count": 3,
   "metadata": {},
   "outputs": [],
   "source": [
    "# get metadata for desired books\n",
    "titles = ['Sense and Sensibility', 'Pride and Prejudice', 'Mansfield Park', 'Emma', 'Persuasion', 'Northanger Abbey']\n",
    "author = 'Austen, Jane'\n",
    "\n",
    "book_metadata = [book for book in csv.DictReader(StringIO(csv_text)) \n",
    "                 if author in book['Authors']\n",
    "                 and book['Type'] == 'Text'\n",
    "                 and book['Language'] == 'en'\n",
    "                 and book['Title'] in titles]"
   ]
  },
  {
   "cell_type": "code",
   "execution_count": 4,
   "metadata": {},
   "outputs": [],
   "source": [
    "# drop older versions of the text from metadata\n",
    "old_versions = ['1342', '161']\n",
    "\n",
    "book_metadata = [b for b in book_metadata if b['Text#'] not in old_versions]"
   ]
  },
  {
   "cell_type": "code",
   "execution_count": 5,
   "metadata": {},
   "outputs": [],
   "source": [
    "id_lst = []\n",
    "\n",
    "for book in book_metadata:\n",
    "    id_lst.append(book['Text#'])"
   ]
  },
  {
   "cell_type": "code",
   "execution_count": 11,
   "metadata": {},
   "outputs": [
    {
     "name": "stdout",
     "output_type": "stream",
     "text": [
      "105\n",
      "200\n",
      "473207\n",
      "121\n",
      "200\n",
      "442018\n",
      "141\n",
      "200\n",
      "899252\n",
      "158\n",
      "200\n",
      "896935\n",
      "21839\n",
      "200\n",
      "703343\n",
      "42671\n",
      "200\n",
      "705499\n"
     ]
    }
   ],
   "source": [
    "# regex pattern to remove header and footer\n",
    "pattern = r'\\*{3}'\n",
    "\n",
    "# loop through to retrieve each in turn\n",
    "for id in id_lst:\n",
    "    print(id)\n",
    "    url = f'https://www.gutenberg.org/cache/epub/{id}/pg{id}.txt'\n",
    "    res = requests.get(url)\n",
    "    print(res.status_code)\n",
    "    soup = BeautifulSoup(res.text)\n",
    "    t = soup.find('p')\n",
    "    raw = t.get_text()\n",
    "    text = re.split(pattern, raw)[2]\n",
    "    print(len(text))\n",
    "    text = re.sub(r'[\\r\\n]+', ' ', text)\n",
    "    final_text = re.sub(r' {2,}', ' ', text).strip()\n",
    "    with open(f'../data/gut_books/{id}.txt', 'wt', encoding = 'utf-8') as book_file:\n",
    "        book_file.write(final_text)\n",
    "    "
   ]
  },
  {
   "cell_type": "code",
   "execution_count": 12,
   "metadata": {},
   "outputs": [],
   "source": [
    "# save metadata\n",
    "with open('../data/gut_books/austen_metadata.csv', 'wt') as f:\n",
    "    csv_writer = csv.DictWriter(f, fieldnames = book_metadata[0].keys())\n",
    "    csv_writer.writeheader()\n",
    "    for b in book_metadata:\n",
    "        csv_writer.writerow(b)"
   ]
  },
  {
   "cell_type": "code",
   "execution_count": null,
   "metadata": {},
   "outputs": [],
   "source": []
  }
 ],
 "metadata": {
  "kernelspec": {
   "display_name": "base",
   "language": "python",
   "name": "python3"
  },
  "language_info": {
   "codemirror_mode": {
    "name": "ipython",
    "version": 3
   },
   "file_extension": ".py",
   "mimetype": "text/x-python",
   "name": "python",
   "nbconvert_exporter": "python",
   "pygments_lexer": "ipython3",
   "version": "3.11.9"
  }
 },
 "nbformat": 4,
 "nbformat_minor": 2
}
