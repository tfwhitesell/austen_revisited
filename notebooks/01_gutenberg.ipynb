{
 "cells": [
  {
   "cell_type": "markdown",
   "metadata": {},
   "source": [
    "First thing to do is get the texts from Project Gutenberg.\n",
    "\n",
    "Use method from this website to get text IDs:\n",
    "\n",
    "https://skeptric.com/gutenberg/"
   ]
  },
  {
   "cell_type": "markdown",
   "metadata": {},
   "source": [
    "Keep this package in mind for tokenization:\n",
    "\n",
    "https://pypi.org/project/semchunk/"
   ]
  },
  {
   "cell_type": "code",
   "execution_count": 2,
   "metadata": {},
   "outputs": [],
   "source": [
    "import csv\n",
    "from collections import Counter\n",
    "from io import BytesIO, StringIO\n",
    "from pathlib import Path\n",
    "import requests\n",
    "import pandas as pd\n",
    "import gutenbergpy.textget\n",
    "import json"
   ]
  },
  {
   "cell_type": "code",
   "execution_count": 15,
   "metadata": {},
   "outputs": [],
   "source": [
    "# get catalog from Gutenberg\n",
    "gut_cat = 'https://www.gutenberg.org/cache/epub/feeds/pg_catalog.csv.gz'\n",
    "\n",
    "r = requests.get(gut_cat)\n",
    "csv_text = r.content.decode('utf-8')"
   ]
  },
  {
   "cell_type": "code",
   "execution_count": 20,
   "metadata": {},
   "outputs": [],
   "source": [
    "# get metadata for desired books\n",
    "titles = ['Sense and Sensibility', 'Pride and Prejudice', 'Mansfield Park', 'Emma', 'Persuasion', 'Northanger Abbey', 'The Watsons: By Jane Austen, Concluded by L. Oulton']\n",
    "author = 'Austen, Jane'\n",
    "\n",
    "book_metadata = [book for book in csv.DictReader(StringIO(csv_text)) \n",
    "                 if author in book['Authors']\n",
    "                 and book['Type'] == 'Text'\n",
    "                 and book['Language'] == 'en'\n",
    "                 and book['Title'] in titles]"
   ]
  },
  {
   "cell_type": "code",
   "execution_count": 21,
   "metadata": {},
   "outputs": [],
   "source": [
    "# drop older versions of the text from metadata\n",
    "old_versions = ['1342', '161']\n",
    "\n",
    "book_metadata = [b for b in book_metadata if b['Text#'] not in old_versions]"
   ]
  },
  {
   "cell_type": "code",
   "execution_count": 24,
   "metadata": {},
   "outputs": [],
   "source": [
    "# function to get book text using gutenbergpy\n",
    "def book_text(id):\n",
    "    r = gutenbergpy.textget.get_text_by_id(id)\n",
    "    c = gutenbergpy.textget.strip_headers(r)\n",
    "    return c"
   ]
  },
  {
   "cell_type": "code",
   "execution_count": 26,
   "metadata": {},
   "outputs": [
    {
     "name": "stdout",
     "output_type": "stream",
     "text": [
      "105\n",
      "121\n",
      "141\n",
      "158\n",
      "21839\n",
      "42671\n",
      "63569\n"
     ]
    }
   ],
   "source": [
    "# save books as csv files in data folder\n",
    "for book in book_metadata:\n",
    "    id = book['Text#']\n",
    "    print(id)\n",
    "    text = book_text(id)\n",
    "    filename = f'../data/{id}.txt'\n",
    "    with open(filename, 'wt', encoding = 'utf-8') as book_file:\n",
    "        book_file.write(str(text))"
   ]
  },
  {
   "cell_type": "code",
   "execution_count": 27,
   "metadata": {},
   "outputs": [],
   "source": [
    "# save metadata\n",
    "with open('../data/austen_metadata.csv', 'wt') as f:\n",
    "    csv_writer = csv.DictWriter(f, fieldnames = book_metadata[0].keys())\n",
    "    csv_writer.writeheader()\n",
    "    for b in book_metadata:\n",
    "        csv_writer.writerow(b)"
   ]
  },
  {
   "cell_type": "code",
   "execution_count": null,
   "metadata": {},
   "outputs": [],
   "source": []
  }
 ],
 "metadata": {
  "kernelspec": {
   "display_name": "base",
   "language": "python",
   "name": "python3"
  },
  "language_info": {
   "codemirror_mode": {
    "name": "ipython",
    "version": 3
   },
   "file_extension": ".py",
   "mimetype": "text/x-python",
   "name": "python",
   "nbconvert_exporter": "python",
   "pygments_lexer": "ipython3",
   "version": "3.11.4"
  }
 },
 "nbformat": 4,
 "nbformat_minor": 2
}
