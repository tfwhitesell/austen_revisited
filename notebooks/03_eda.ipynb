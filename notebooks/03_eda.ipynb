{
 "cells": [
  {
   "cell_type": "code",
   "execution_count": 1,
   "metadata": {},
   "outputs": [],
   "source": [
    "import pandas as pd\n",
    "import numpy as np\n",
    "import matplotlib.pyplot as plt"
   ]
  },
  {
   "cell_type": "markdown",
   "metadata": {},
   "source": [
    "First I want to inspect the metadata files and make the information more useful. For example, the author column in the Project Gutenberg data."
   ]
  },
  {
   "cell_type": "code",
   "execution_count": 20,
   "metadata": {},
   "outputs": [],
   "source": [
    "pg_metadata = pd.read_csv('../data/gut_books/austen_metadata.csv')"
   ]
  },
  {
   "cell_type": "code",
   "execution_count": 21,
   "metadata": {},
   "outputs": [
    {
     "data": {
      "text/html": [
       "<div>\n",
       "<style scoped>\n",
       "    .dataframe tbody tr th:only-of-type {\n",
       "        vertical-align: middle;\n",
       "    }\n",
       "\n",
       "    .dataframe tbody tr th {\n",
       "        vertical-align: top;\n",
       "    }\n",
       "\n",
       "    .dataframe thead th {\n",
       "        text-align: right;\n",
       "    }\n",
       "</style>\n",
       "<table border=\"1\" class=\"dataframe\">\n",
       "  <thead>\n",
       "    <tr style=\"text-align: right;\">\n",
       "      <th></th>\n",
       "      <th>Text#</th>\n",
       "      <th>Type</th>\n",
       "      <th>Issued</th>\n",
       "      <th>Title</th>\n",
       "      <th>Language</th>\n",
       "      <th>Authors</th>\n",
       "      <th>Subjects</th>\n",
       "      <th>LoCC</th>\n",
       "      <th>Bookshelves</th>\n",
       "    </tr>\n",
       "  </thead>\n",
       "  <tbody>\n",
       "    <tr>\n",
       "      <th>0</th>\n",
       "      <td>105</td>\n",
       "      <td>Text</td>\n",
       "      <td>1994-02-01</td>\n",
       "      <td>Persuasion</td>\n",
       "      <td>en</td>\n",
       "      <td>Austen, Jane, 1775-1817</td>\n",
       "      <td>England -- Social life and customs -- 19th cen...</td>\n",
       "      <td>PR</td>\n",
       "      <td>NaN</td>\n",
       "    </tr>\n",
       "    <tr>\n",
       "      <th>1</th>\n",
       "      <td>121</td>\n",
       "      <td>Text</td>\n",
       "      <td>1994-04-01</td>\n",
       "      <td>Northanger Abbey</td>\n",
       "      <td>en</td>\n",
       "      <td>Austen, Jane, 1775-1817</td>\n",
       "      <td>England -- Social life and customs -- 19th cen...</td>\n",
       "      <td>PR</td>\n",
       "      <td>Gothic Fiction</td>\n",
       "    </tr>\n",
       "    <tr>\n",
       "      <th>2</th>\n",
       "      <td>141</td>\n",
       "      <td>Text</td>\n",
       "      <td>1994-06-01</td>\n",
       "      <td>Mansfield Park</td>\n",
       "      <td>en</td>\n",
       "      <td>Austen, Jane, 1775-1817</td>\n",
       "      <td>England -- Fiction; Young women -- Fiction; Lo...</td>\n",
       "      <td>PR</td>\n",
       "      <td>NaN</td>\n",
       "    </tr>\n",
       "    <tr>\n",
       "      <th>3</th>\n",
       "      <td>158</td>\n",
       "      <td>Text</td>\n",
       "      <td>1994-08-01</td>\n",
       "      <td>Emma</td>\n",
       "      <td>en</td>\n",
       "      <td>Austen, Jane, 1775-1817</td>\n",
       "      <td>Humorous stories; England -- Fiction; Young wo...</td>\n",
       "      <td>PR</td>\n",
       "      <td>NaN</td>\n",
       "    </tr>\n",
       "    <tr>\n",
       "      <th>4</th>\n",
       "      <td>21839</td>\n",
       "      <td>Text</td>\n",
       "      <td>2007-06-15</td>\n",
       "      <td>Sense and Sensibility</td>\n",
       "      <td>en</td>\n",
       "      <td>Austen, Jane, 1775-1817; Dobson, Austin, 1840-...</td>\n",
       "      <td>England -- Social life and customs -- 19th cen...</td>\n",
       "      <td>PR</td>\n",
       "      <td>NaN</td>\n",
       "    </tr>\n",
       "  </tbody>\n",
       "</table>\n",
       "</div>"
      ],
      "text/plain": [
       "   Text#  Type      Issued                  Title Language  \\\n",
       "0    105  Text  1994-02-01             Persuasion       en   \n",
       "1    121  Text  1994-04-01       Northanger Abbey       en   \n",
       "2    141  Text  1994-06-01         Mansfield Park       en   \n",
       "3    158  Text  1994-08-01                   Emma       en   \n",
       "4  21839  Text  2007-06-15  Sense and Sensibility       en   \n",
       "\n",
       "                                             Authors  \\\n",
       "0                            Austen, Jane, 1775-1817   \n",
       "1                            Austen, Jane, 1775-1817   \n",
       "2                            Austen, Jane, 1775-1817   \n",
       "3                            Austen, Jane, 1775-1817   \n",
       "4  Austen, Jane, 1775-1817; Dobson, Austin, 1840-...   \n",
       "\n",
       "                                            Subjects LoCC     Bookshelves  \n",
       "0  England -- Social life and customs -- 19th cen...   PR             NaN  \n",
       "1  England -- Social life and customs -- 19th cen...   PR  Gothic Fiction  \n",
       "2  England -- Fiction; Young women -- Fiction; Lo...   PR             NaN  \n",
       "3  Humorous stories; England -- Fiction; Young wo...   PR             NaN  \n",
       "4  England -- Social life and customs -- 19th cen...   PR             NaN  "
      ]
     },
     "execution_count": 21,
     "metadata": {},
     "output_type": "execute_result"
    }
   ],
   "source": [
    "pg_metadata.head()"
   ]
  },
  {
   "cell_type": "markdown",
   "metadata": {},
   "source": [
    "Keep columns: Text#, Title, Authors"
   ]
  },
  {
   "cell_type": "code",
   "execution_count": 22,
   "metadata": {},
   "outputs": [],
   "source": [
    "pg_metadata = pg_metadata[['Text#', 'Title', 'Authors']]"
   ]
  },
  {
   "cell_type": "code",
   "execution_count": 23,
   "metadata": {},
   "outputs": [],
   "source": [
    "# clean up Authors\n",
    "pg_metadata['Authors'] = pg_metadata['Authors'].str.split(',').str[:2].str.join(',')"
   ]
  },
  {
   "cell_type": "code",
   "execution_count": 24,
   "metadata": {},
   "outputs": [
    {
     "data": {
      "text/html": [
       "<div>\n",
       "<style scoped>\n",
       "    .dataframe tbody tr th:only-of-type {\n",
       "        vertical-align: middle;\n",
       "    }\n",
       "\n",
       "    .dataframe tbody tr th {\n",
       "        vertical-align: top;\n",
       "    }\n",
       "\n",
       "    .dataframe thead th {\n",
       "        text-align: right;\n",
       "    }\n",
       "</style>\n",
       "<table border=\"1\" class=\"dataframe\">\n",
       "  <thead>\n",
       "    <tr style=\"text-align: right;\">\n",
       "      <th></th>\n",
       "      <th>Text#</th>\n",
       "      <th>Title</th>\n",
       "      <th>Authors</th>\n",
       "    </tr>\n",
       "  </thead>\n",
       "  <tbody>\n",
       "    <tr>\n",
       "      <th>0</th>\n",
       "      <td>105</td>\n",
       "      <td>Persuasion</td>\n",
       "      <td>Austen, Jane</td>\n",
       "    </tr>\n",
       "    <tr>\n",
       "      <th>1</th>\n",
       "      <td>121</td>\n",
       "      <td>Northanger Abbey</td>\n",
       "      <td>Austen, Jane</td>\n",
       "    </tr>\n",
       "    <tr>\n",
       "      <th>2</th>\n",
       "      <td>141</td>\n",
       "      <td>Mansfield Park</td>\n",
       "      <td>Austen, Jane</td>\n",
       "    </tr>\n",
       "    <tr>\n",
       "      <th>3</th>\n",
       "      <td>158</td>\n",
       "      <td>Emma</td>\n",
       "      <td>Austen, Jane</td>\n",
       "    </tr>\n",
       "    <tr>\n",
       "      <th>4</th>\n",
       "      <td>21839</td>\n",
       "      <td>Sense and Sensibility</td>\n",
       "      <td>Austen, Jane</td>\n",
       "    </tr>\n",
       "    <tr>\n",
       "      <th>5</th>\n",
       "      <td>42671</td>\n",
       "      <td>Pride and Prejudice</td>\n",
       "      <td>Austen, Jane</td>\n",
       "    </tr>\n",
       "  </tbody>\n",
       "</table>\n",
       "</div>"
      ],
      "text/plain": [
       "   Text#                  Title       Authors\n",
       "0    105             Persuasion  Austen, Jane\n",
       "1    121       Northanger Abbey  Austen, Jane\n",
       "2    141         Mansfield Park  Austen, Jane\n",
       "3    158                   Emma  Austen, Jane\n",
       "4  21839  Sense and Sensibility  Austen, Jane\n",
       "5  42671    Pride and Prejudice  Austen, Jane"
      ]
     },
     "execution_count": 24,
     "metadata": {},
     "output_type": "execute_result"
    }
   ],
   "source": [
    "pg_metadata"
   ]
  },
  {
   "cell_type": "code",
   "execution_count": null,
   "metadata": {},
   "outputs": [],
   "source": []
  }
 ],
 "metadata": {
  "kernelspec": {
   "display_name": "base",
   "language": "python",
   "name": "python3"
  },
  "language_info": {
   "codemirror_mode": {
    "name": "ipython",
    "version": 3
   },
   "file_extension": ".py",
   "mimetype": "text/x-python",
   "name": "python",
   "nbconvert_exporter": "python",
   "pygments_lexer": "ipython3",
   "version": "3.11.9"
  }
 },
 "nbformat": 4,
 "nbformat_minor": 2
}
