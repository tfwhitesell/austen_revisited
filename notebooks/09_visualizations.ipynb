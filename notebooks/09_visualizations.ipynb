{
 "cells": [
  {
   "cell_type": "code",
   "execution_count": 57,
   "metadata": {},
   "outputs": [],
   "source": [
    "import pandas as pd\n",
    "import matplotlib.pyplot as plt\n",
    "import seaborn as sns\n",
    "from sklearn.metrics import accuracy_score, confusion_matrix, roc_curve, auc, precision_recall_curve, classification_report\n",
    "import os\n",
    "import glob\n",
    "import helper_functions as h\n"
   ]
  },
  {
   "cell_type": "markdown",
   "metadata": {},
   "source": [
    "Read in one of the model files to work out the visualization parameters."
   ]
  },
  {
   "cell_type": "code",
   "execution_count": 2,
   "metadata": {},
   "outputs": [],
   "source": [
    "logo_mnb = pd.read_csv('../data/logo_mnb.csv')"
   ]
  },
  {
   "cell_type": "code",
   "execution_count": 3,
   "metadata": {},
   "outputs": [
    {
     "data": {
      "text/html": [
       "<div>\n",
       "<style scoped>\n",
       "    .dataframe tbody tr th:only-of-type {\n",
       "        vertical-align: middle;\n",
       "    }\n",
       "\n",
       "    .dataframe tbody tr th {\n",
       "        vertical-align: top;\n",
       "    }\n",
       "\n",
       "    .dataframe thead th {\n",
       "        text-align: right;\n",
       "    }\n",
       "</style>\n",
       "<table border=\"1\" class=\"dataframe\">\n",
       "  <thead>\n",
       "    <tr style=\"text-align: right;\">\n",
       "      <th></th>\n",
       "      <th>text#</th>\n",
       "      <th>title</th>\n",
       "      <th>author</th>\n",
       "      <th>words</th>\n",
       "      <th>text_length</th>\n",
       "      <th>is_Austen</th>\n",
       "      <th>is_Austen_bool</th>\n",
       "      <th>token_text</th>\n",
       "      <th>token_num</th>\n",
       "      <th>token_char_count</th>\n",
       "      <th>token_sent_count</th>\n",
       "      <th>token_word_count</th>\n",
       "      <th>predictions</th>\n",
       "      <th>probabilities</th>\n",
       "      <th>correct_pred</th>\n",
       "    </tr>\n",
       "  </thead>\n",
       "  <tbody>\n",
       "    <tr>\n",
       "      <th>0</th>\n",
       "      <td>52705351</td>\n",
       "      <td>The Meek Shall Inherit</td>\n",
       "      <td>AvonleaBrigadoon</td>\n",
       "      <td>67407</td>\n",
       "      <td>long</td>\n",
       "      <td>Not Austen</td>\n",
       "      <td>0</td>\n",
       "      <td>21 July 1809 I am sixteen today: an age at whi...</td>\n",
       "      <td>1</td>\n",
       "      <td>1994</td>\n",
       "      <td>29</td>\n",
       "      <td>381</td>\n",
       "      <td>0</td>\n",
       "      <td>3.917950e-32</td>\n",
       "      <td>1</td>\n",
       "    </tr>\n",
       "    <tr>\n",
       "      <th>1</th>\n",
       "      <td>52705351</td>\n",
       "      <td>The Meek Shall Inherit</td>\n",
       "      <td>AvonleaBrigadoon</td>\n",
       "      <td>67407</td>\n",
       "      <td>long</td>\n",
       "      <td>Not Austen</td>\n",
       "      <td>0</td>\n",
       "      <td>24 July I have conquered the first phrase with...</td>\n",
       "      <td>2</td>\n",
       "      <td>1989</td>\n",
       "      <td>23</td>\n",
       "      <td>378</td>\n",
       "      <td>0</td>\n",
       "      <td>5.510400e-36</td>\n",
       "      <td>1</td>\n",
       "    </tr>\n",
       "    <tr>\n",
       "      <th>2</th>\n",
       "      <td>52705351</td>\n",
       "      <td>The Meek Shall Inherit</td>\n",
       "      <td>AvonleaBrigadoon</td>\n",
       "      <td>67407</td>\n",
       "      <td>long</td>\n",
       "      <td>Not Austen</td>\n",
       "      <td>0</td>\n",
       "      <td>Jane and Lizzy tried speaking to Papa, saying ...</td>\n",
       "      <td>3</td>\n",
       "      <td>1966</td>\n",
       "      <td>23</td>\n",
       "      <td>384</td>\n",
       "      <td>0</td>\n",
       "      <td>1.999711e-29</td>\n",
       "      <td>1</td>\n",
       "    </tr>\n",
       "    <tr>\n",
       "      <th>3</th>\n",
       "      <td>52705351</td>\n",
       "      <td>The Meek Shall Inherit</td>\n",
       "      <td>AvonleaBrigadoon</td>\n",
       "      <td>67407</td>\n",
       "      <td>long</td>\n",
       "      <td>Not Austen</td>\n",
       "      <td>0</td>\n",
       "      <td>I was so embarrassed, that I was not able to a...</td>\n",
       "      <td>4</td>\n",
       "      <td>1929</td>\n",
       "      <td>23</td>\n",
       "      <td>347</td>\n",
       "      <td>0</td>\n",
       "      <td>2.665862e-38</td>\n",
       "      <td>1</td>\n",
       "    </tr>\n",
       "    <tr>\n",
       "      <th>4</th>\n",
       "      <td>52705351</td>\n",
       "      <td>The Meek Shall Inherit</td>\n",
       "      <td>AvonleaBrigadoon</td>\n",
       "      <td>67407</td>\n",
       "      <td>long</td>\n",
       "      <td>Not Austen</td>\n",
       "      <td>0</td>\n",
       "      <td>~~~~~~~~~~~~~~~~~~~~~~~~~~~~~~ 28 December, 18...</td>\n",
       "      <td>5</td>\n",
       "      <td>1992</td>\n",
       "      <td>25</td>\n",
       "      <td>364</td>\n",
       "      <td>0</td>\n",
       "      <td>1.465096e-36</td>\n",
       "      <td>1</td>\n",
       "    </tr>\n",
       "  </tbody>\n",
       "</table>\n",
       "</div>"
      ],
      "text/plain": [
       "      text#                   title            author  words text_length  \\\n",
       "0  52705351  The Meek Shall Inherit  AvonleaBrigadoon  67407        long   \n",
       "1  52705351  The Meek Shall Inherit  AvonleaBrigadoon  67407        long   \n",
       "2  52705351  The Meek Shall Inherit  AvonleaBrigadoon  67407        long   \n",
       "3  52705351  The Meek Shall Inherit  AvonleaBrigadoon  67407        long   \n",
       "4  52705351  The Meek Shall Inherit  AvonleaBrigadoon  67407        long   \n",
       "\n",
       "    is_Austen  is_Austen_bool  \\\n",
       "0  Not Austen               0   \n",
       "1  Not Austen               0   \n",
       "2  Not Austen               0   \n",
       "3  Not Austen               0   \n",
       "4  Not Austen               0   \n",
       "\n",
       "                                          token_text  token_num  \\\n",
       "0  21 July 1809 I am sixteen today: an age at whi...          1   \n",
       "1  24 July I have conquered the first phrase with...          2   \n",
       "2  Jane and Lizzy tried speaking to Papa, saying ...          3   \n",
       "3  I was so embarrassed, that I was not able to a...          4   \n",
       "4  ~~~~~~~~~~~~~~~~~~~~~~~~~~~~~~ 28 December, 18...          5   \n",
       "\n",
       "   token_char_count  token_sent_count  token_word_count  predictions  \\\n",
       "0              1994                29               381            0   \n",
       "1              1989                23               378            0   \n",
       "2              1966                23               384            0   \n",
       "3              1929                23               347            0   \n",
       "4              1992                25               364            0   \n",
       "\n",
       "   probabilities  correct_pred  \n",
       "0   3.917950e-32             1  \n",
       "1   5.510400e-36             1  \n",
       "2   1.999711e-29             1  \n",
       "3   2.665862e-38             1  \n",
       "4   1.465096e-36             1  "
      ]
     },
     "execution_count": 3,
     "metadata": {},
     "output_type": "execute_result"
    }
   ],
   "source": [
    "logo_mnb.head()"
   ]
  },
  {
   "cell_type": "code",
   "execution_count": 25,
   "metadata": {},
   "outputs": [],
   "source": [
    "# function is in helperfunctions but I want to modify it here\n",
    "def get_metrics(df, actual, pred):\n",
    "    actual_val = df[actual]\n",
    "    pred_val = df[pred]\n",
    "    \n",
    "    conf_matrix = confusion_matrix(actual_val, pred_val)\n",
    "    acc_score = accuracy_score(actual_val, pred_val)\n",
    "    class_report = classification_report(actual_val, pred_val, target_names = ['Not Austen', 'Austen'], output_dict = True)\n",
    "\n",
    "    return conf_matrix, acc_score, class_report"
   ]
  },
  {
   "cell_type": "code",
   "execution_count": 26,
   "metadata": {},
   "outputs": [],
   "source": [
    "cm, acc, cr = get_metrics(logo_mnb, 'is_Austen_bool', 'predictions')"
   ]
  },
  {
   "cell_type": "code",
   "execution_count": 16,
   "metadata": {},
   "outputs": [
    {
     "data": {
      "image/png": "[encoded data removed]",
      "text/plain": [
       "<Figure size 640x480 with 2 Axes>"
      ]
     },
     "metadata": {},
     "output_type": "display_data"
    }
   ],
   "source": [
    "# confusion matrix heatmap\n",
    "class_labels = ['Not Austen', 'Austen']\n",
    "# plt.figure(figsize = (10, 8))\n",
    "sns.heatmap(cm, annot = True, fmt = 'd', cmap = 'Blues', xticklabels = class_labels, yticklabels = class_labels, annot_kws = {'size': 14})\n",
    "# plt.xlabel('Predicted')\n",
    "# plt.ylabel('Actual')\n",
    "plt.title('Predicted vs Actual Class', fontsize = 16)\n",
    "plt.savefig('../images/logo_mnb_c_cm.png', bbox_inches = 'tight', transparent = True);"
   ]
  },
  {
   "cell_type": "code",
   "execution_count": 55,
   "metadata": {},
   "outputs": [],
   "source": [
    "def save_cm_heatmap(cm, img_name:str):\n",
    "    # confusion matrix heatmap\n",
    "    class_labels = ['Not Austen', 'Austen']\n",
    "    sns.heatmap(cm, annot = True, fmt = 'd', cmap = 'Blues', xticklabels = class_labels, yticklabels = class_labels, annot_kws = {'size': 14})\n",
    "    plt.savefig(f'../images/{img_name}.png', bbox_inches = 'tight', transparent = True)\n",
    "    plt.close()"
   ]
  },
  {
   "cell_type": "code",
   "execution_count": 56,
   "metadata": {},
   "outputs": [],
   "source": [
    "save_cm_heatmap(cm, 'logo_mnb_c_cm')"
   ]
  },
  {
   "cell_type": "code",
   "execution_count": 27,
   "metadata": {},
   "outputs": [
    {
     "name": "stdout",
     "output_type": "stream",
     "text": [
      "[[10347   655]\n",
      " [  347  1793]]\n",
      "0.9237558971237254\n",
      "{'Not Austen': {'precision': 0.967551898260707, 'recall': 0.9404653699327395, 'f1-score': 0.953816371681416, 'support': 11002.0}, 'Austen': {'precision': 0.7324346405228758, 'recall': 0.8378504672897197, 'f1-score': 0.7816041848299913, 'support': 2140.0}, 'accuracy': 0.9237558971237254, 'macro avg': {'precision': 0.8499932693917913, 'recall': 0.8891579186112296, 'f1-score': 0.8677102782557036, 'support': 13142.0}, 'weighted avg': {'precision': 0.9292661783125287, 'recall': 0.9237558971237254, 'f1-score': 0.925773906313736, 'support': 13142.0}}\n"
     ]
    }
   ],
   "source": [
    "print(cm)\n",
    "print(acc)\n",
    "print(cr)"
   ]
  },
  {
   "cell_type": "code",
   "execution_count": 53,
   "metadata": {},
   "outputs": [],
   "source": [
    "def save_class_report(cr, img_name:str):\n",
    "    cr_df = pd.DataFrame(cr).transpose()\n",
    "    cr_df = cr_df.round(2)\n",
    "\n",
    "    fig, ax = plt.subplots()\n",
    "    ax.axis('off')\n",
    "\n",
    "    table = ax.table(cellText = cr_df.values, colLabels = cr_df.columns, rowLabels = cr_df.index, cellLoc = 'center', loc = 'center')\n",
    "\n",
    "    table.auto_set_font_size(False)\n",
    "    table.set_fontsize(12)\n",
    "    table.scale(1.2, 1.2)\n",
    "\n",
    "    plt.savefig(f'../images/{img_name}.png', bbox_inches = 'tight', transparent = True)\n",
    "    plt.close()"
   ]
  },
  {
   "cell_type": "code",
   "execution_count": 54,
   "metadata": {},
   "outputs": [],
   "source": [
    "save_class_report(cr, 'logo_mnb_c_cr')"
   ]
  },
  {
   "cell_type": "code",
   "execution_count": 49,
   "metadata": {},
   "outputs": [],
   "source": [
    "def save_bar_chart(df, title:str, img_name:str):\n",
    "    # new column to indicate correct prediction\n",
    "    df['correct_pred'] = (df['is_Austen_bool'] == df['predictions']).astype(int)\n",
    "\n",
    "    # group by text and normalize\n",
    "    text_acc = df.groupby(['text#', 'title', 'author'])['correct_pred'].mean().reset_index()\n",
    "    text_acc = text_acc.sort_values(by = 'correct_pred', ascending = False)\n",
    "\n",
    "    # chart\n",
    "    ja_list = ['Sense and Sensibility', 'Pride and Prejudice', 'Emma', 'Mansfield Park', 'Northanger Abbey', 'Persuasion']\n",
    "    plt.figure(figsize = (10, 10))\n",
    "    plt.title(title, fontsize = 16)\n",
    "    plt.xlabel('Accuracy')\n",
    "    plt.ylabel('Book Title')\n",
    "    clrs = ['maroon' if x in ja_list else '#1f77b4' for x in text_acc['title']]\n",
    "    sns.barplot(y = 'title', x = 'correct_pred', hue = 'title', data = text_acc, palette = clrs)\n",
    "\n",
    "    plt.savefig(f'../images/{img_name}.png', bbox_inches = 'tight')\n",
    "    plt.close()\n"
   ]
  },
  {
   "cell_type": "code",
   "execution_count": 50,
   "metadata": {},
   "outputs": [],
   "source": [
    "save_bar_chart(logo_mnb, 'Prediction Accuracy by Book', 'logo_mnb_c_bar')"
   ]
  },
  {
   "cell_type": "markdown",
   "metadata": {},
   "source": [
    "To produce charts for all models:\n",
    "- get list of filenames (by naming convention)\n",
    "- for loop over list of files, create df and use metrics and visualization functions\n",
    "- variable with base name\n",
    "- print base name and accuracy score"
   ]
  },
  {
   "cell_type": "code",
   "execution_count": 70,
   "metadata": {},
   "outputs": [
    {
     "name": "stdout",
     "output_type": "stream",
     "text": [
      "logo_df_xgb_c\n",
      "Accuracy score: 0.9164510728960584\n",
      "logo_df_xgb\n",
      "Accuracy score: 0.9092984325064678\n",
      "logo_xgb_c_pro\n",
      "Accuracy score: 0.9044285496880231\n",
      "logo_mnb\n",
      "Accuracy score: 0.9237558971237254\n",
      "logo_mnb_c_pro\n",
      "Accuracy score: 0.9184294627910516\n",
      "logo_xgb_tf_pro\n",
      "Accuracy score: 0.890579820423071\n",
      "logo_mnb_tf_pro\n",
      "Accuracy score: 0.8354892710394156\n",
      "logo_df_mnb_tf\n",
      "Accuracy score: 0.8369350175011414\n"
     ]
    }
   ],
   "source": [
    "files = glob.glob('../data/logo*.csv')\n",
    "filenames = {}\n",
    "\n",
    "for file in files:\n",
    "    filepath = file\n",
    "    basename = filepath.split('/')[-1].split('.')[0]\n",
    "    filenames.update({filepath : basename})\n",
    "\n",
    "for file in filenames.keys():\n",
    "    basename = filenames[file]\n",
    "    df = pd.read_csv(file)\n",
    "\n",
    "    # get metrics\n",
    "    cm, acc, cr = get_metrics(df, 'is_Austen_bool', 'predictions')\n",
    "\n",
    "    # create and save visuals\n",
    "    save_cm_heatmap(cm, basename)\n",
    "    save_class_report(cr, basename)\n",
    "    save_bar_chart(logo_mnb, 'Prediction Accuracy by Book', basename)\n",
    "\n",
    "    print(basename)\n",
    "    print(f'Accuracy score: {acc}')"
   ]
  },
  {
   "cell_type": "markdown",
   "metadata": {},
   "source": [
    "logo_df_xgb is XGB with tf-idf, no pre-processing (generated before I refined the naming convention to include all components)"
   ]
  },
  {
   "cell_type": "code",
   "execution_count": null,
   "metadata": {},
   "outputs": [],
   "source": []
  },
  {
   "cell_type": "code",
   "execution_count": null,
   "metadata": {},
   "outputs": [],
   "source": []
  }
 ],
 "metadata": {
  "kernelspec": {
   "display_name": "base",
   "language": "python",
   "name": "python3"
  },
  "language_info": {
   "codemirror_mode": {
    "name": "ipython",
    "version": 3
   },
   "file_extension": ".py",
   "mimetype": "text/x-python",
   "name": "python",
   "nbconvert_exporter": "python",
   "pygments_lexer": "ipython3",
   "version": "3.11.9"
  }
 },
 "nbformat": 4,
 "nbformat_minor": 2
}
