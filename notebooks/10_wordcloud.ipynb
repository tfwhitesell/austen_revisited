{
 "cells": [
  {
   "cell_type": "code",
   "execution_count": 12,
   "metadata": {},
   "outputs": [],
   "source": [
    "import pandas as pd\n",
    "from wordcloud import WordCloud\n",
    "\n",
    "from collections import Counter\n",
    "import matplotlib.pyplot as plt\n",
    "\n",
    "from nltk.stem import WordNetLemmatizer\n",
    "\n",
    "import helper_functions as h"
   ]
  },
  {
   "cell_type": "code",
   "execution_count": 2,
   "metadata": {},
   "outputs": [],
   "source": [
    "# read in metadata, need text#, title, Austen/not-Austen ultimately\n",
    "metadata = pd.read_csv('../data/metadata.csv')"
   ]
  },
  {
   "cell_type": "code",
   "execution_count": 5,
   "metadata": {},
   "outputs": [],
   "source": [
    "md_long = metadata[metadata['text_length'] == 'long']"
   ]
  },
  {
   "cell_type": "code",
   "execution_count": 7,
   "metadata": {},
   "outputs": [
    {
     "data": {
      "text/html": [
       "<div>\n",
       "<style scoped>\n",
       "    .dataframe tbody tr th:only-of-type {\n",
       "        vertical-align: middle;\n",
       "    }\n",
       "\n",
       "    .dataframe tbody tr th {\n",
       "        vertical-align: top;\n",
       "    }\n",
       "\n",
       "    .dataframe thead th {\n",
       "        text-align: right;\n",
       "    }\n",
       "</style>\n",
       "<table border=\"1\" class=\"dataframe\">\n",
       "  <thead>\n",
       "    <tr style=\"text-align: right;\">\n",
       "      <th></th>\n",
       "      <th>text#</th>\n",
       "      <th>title</th>\n",
       "      <th>author</th>\n",
       "      <th>words</th>\n",
       "      <th>text_length</th>\n",
       "      <th>is_Austen</th>\n",
       "      <th>is_Austen_bool</th>\n",
       "    </tr>\n",
       "  </thead>\n",
       "  <tbody>\n",
       "    <tr>\n",
       "      <th>25</th>\n",
       "      <td>52705351</td>\n",
       "      <td>The Meek Shall Inherit</td>\n",
       "      <td>AvonleaBrigadoon</td>\n",
       "      <td>67407</td>\n",
       "      <td>long</td>\n",
       "      <td>Not Austen</td>\n",
       "      <td>0</td>\n",
       "    </tr>\n",
       "    <tr>\n",
       "      <th>81</th>\n",
       "      <td>30672131</td>\n",
       "      <td>The Betrothal</td>\n",
       "      <td>Lupin111</td>\n",
       "      <td>64340</td>\n",
       "      <td>long</td>\n",
       "      <td>Not Austen</td>\n",
       "      <td>0</td>\n",
       "    </tr>\n",
       "    <tr>\n",
       "      <th>90</th>\n",
       "      <td>40263168</td>\n",
       "      <td>Regent Observer</td>\n",
       "      <td>TheUnpredictableMuse</td>\n",
       "      <td>132259</td>\n",
       "      <td>long</td>\n",
       "      <td>Not Austen</td>\n",
       "      <td>0</td>\n",
       "    </tr>\n",
       "    <tr>\n",
       "      <th>99</th>\n",
       "      <td>33964492</td>\n",
       "      <td>Mrs. Elizabeth Collins of Rosings Park</td>\n",
       "      <td>dorotheabrooke1</td>\n",
       "      <td>63858</td>\n",
       "      <td>long</td>\n",
       "      <td>Not Austen</td>\n",
       "      <td>0</td>\n",
       "    </tr>\n",
       "    <tr>\n",
       "      <th>103</th>\n",
       "      <td>35534191</td>\n",
       "      <td>Lost in Thought</td>\n",
       "      <td>emesa</td>\n",
       "      <td>85986</td>\n",
       "      <td>long</td>\n",
       "      <td>Not Austen</td>\n",
       "      <td>0</td>\n",
       "    </tr>\n",
       "  </tbody>\n",
       "</table>\n",
       "</div>"
      ],
      "text/plain": [
       "        text#                                   title                author  \\\n",
       "25   52705351                  The Meek Shall Inherit      AvonleaBrigadoon   \n",
       "81   30672131                           The Betrothal              Lupin111   \n",
       "90   40263168                         Regent Observer  TheUnpredictableMuse   \n",
       "99   33964492  Mrs. Elizabeth Collins of Rosings Park       dorotheabrooke1   \n",
       "103  35534191                         Lost in Thought                 emesa   \n",
       "\n",
       "      words text_length   is_Austen  is_Austen_bool  \n",
       "25    67407        long  Not Austen               0  \n",
       "81    64340        long  Not Austen               0  \n",
       "90   132259        long  Not Austen               0  \n",
       "99    63858        long  Not Austen               0  \n",
       "103   85986        long  Not Austen               0  "
      ]
     },
     "execution_count": 7,
     "metadata": {},
     "output_type": "execute_result"
    }
   ],
   "source": [
    "md_long.head()"
   ]
  },
  {
   "cell_type": "code",
   "execution_count": 8,
   "metadata": {},
   "outputs": [],
   "source": [
    "ids = md_long['text#'].tolist()"
   ]
  },
  {
   "cell_type": "code",
   "execution_count": 11,
   "metadata": {},
   "outputs": [
    {
     "name": "stderr",
     "output_type": "stream",
     "text": [
      "/var/folders/xm/vmtk5pms0jzb2kmtm00lwtn80000gn/T/ipykernel_65585/2146868511.py:12: SettingWithCopyWarning: \n",
      "A value is trying to be set on a copy of a slice from a DataFrame.\n",
      "Try using .loc[row_indexer,col_indexer] = value instead\n",
      "\n",
      "See the caveats in the documentation: https://pandas.pydata.org/pandas-docs/stable/user_guide/indexing.html#returning-a-view-versus-a-copy\n",
      "  md_long['word_counter'] = counters\n",
      "/var/folders/xm/vmtk5pms0jzb2kmtm00lwtn80000gn/T/ipykernel_65585/2146868511.py:13: SettingWithCopyWarning: \n",
      "A value is trying to be set on a copy of a slice from a DataFrame.\n",
      "Try using .loc[row_indexer,col_indexer] = value instead\n",
      "\n",
      "See the caveats in the documentation: https://pandas.pydata.org/pandas-docs/stable/user_guide/indexing.html#returning-a-view-versus-a-copy\n",
      "  md_long['unique_words'] = counter_len\n"
     ]
    }
   ],
   "source": [
    "counters = []\n",
    "counter_len = []\n",
    "\n",
    "wnl = WordNetLemmatizer()\n",
    "\n",
    "for id in md_long['text#']:\n",
    "    text = h.read_text(id)\n",
    "    text_counter = h.get_counter(text)\n",
    "    counters.append(text_counter)\n",
    "    counter_len.append(len(text_counter))\n",
    "\n",
    "md_long['word_counter'] = counters\n",
    "md_long['unique_words'] = counter_len"
   ]
  },
  {
   "cell_type": "code",
   "execution_count": 13,
   "metadata": {},
   "outputs": [
    {
     "data": {
      "text/html": [
       "<div>\n",
       "<style scoped>\n",
       "    .dataframe tbody tr th:only-of-type {\n",
       "        vertical-align: middle;\n",
       "    }\n",
       "\n",
       "    .dataframe tbody tr th {\n",
       "        vertical-align: top;\n",
       "    }\n",
       "\n",
       "    .dataframe thead th {\n",
       "        text-align: right;\n",
       "    }\n",
       "</style>\n",
       "<table border=\"1\" class=\"dataframe\">\n",
       "  <thead>\n",
       "    <tr style=\"text-align: right;\">\n",
       "      <th></th>\n",
       "      <th>text#</th>\n",
       "      <th>title</th>\n",
       "      <th>author</th>\n",
       "      <th>words</th>\n",
       "      <th>text_length</th>\n",
       "      <th>is_Austen</th>\n",
       "      <th>is_Austen_bool</th>\n",
       "      <th>word_counter</th>\n",
       "      <th>unique_words</th>\n",
       "    </tr>\n",
       "  </thead>\n",
       "  <tbody>\n",
       "    <tr>\n",
       "      <th>25</th>\n",
       "      <td>52705351</td>\n",
       "      <td>The Meek Shall Inherit</td>\n",
       "      <td>AvonleaBrigadoon</td>\n",
       "      <td>67407</td>\n",
       "      <td>long</td>\n",
       "      <td>Not Austen</td>\n",
       "      <td>0</td>\n",
       "      <td>{'21': 17, 'july': 32, '1809': 10, 'sixteen': ...</td>\n",
       "      <td>5189</td>\n",
       "    </tr>\n",
       "    <tr>\n",
       "      <th>81</th>\n",
       "      <td>30672131</td>\n",
       "      <td>The Betrothal</td>\n",
       "      <td>Lupin111</td>\n",
       "      <td>64340</td>\n",
       "      <td>long</td>\n",
       "      <td>Not Austen</td>\n",
       "      <td>0</td>\n",
       "      <td>{'seems': 19, 'like': 73, 'lovely': 10, 'place...</td>\n",
       "      <td>5219</td>\n",
       "    </tr>\n",
       "    <tr>\n",
       "      <th>90</th>\n",
       "      <td>40263168</td>\n",
       "      <td>Regent Observer</td>\n",
       "      <td>TheUnpredictableMuse</td>\n",
       "      <td>132259</td>\n",
       "      <td>long</td>\n",
       "      <td>Not Austen</td>\n",
       "      <td>0</td>\n",
       "      <td>{'truth': 27, 'universally': 1, 'acknowledged'...</td>\n",
       "      <td>9079</td>\n",
       "    </tr>\n",
       "    <tr>\n",
       "      <th>99</th>\n",
       "      <td>33964492</td>\n",
       "      <td>Mrs. Elizabeth Collins of Rosings Park</td>\n",
       "      <td>dorotheabrooke1</td>\n",
       "      <td>63858</td>\n",
       "      <td>long</td>\n",
       "      <td>Not Austen</td>\n",
       "      <td>0</td>\n",
       "      <td>{'introduction': 21, 'hi': 3, 'everyone': 27, ...</td>\n",
       "      <td>4312</td>\n",
       "    </tr>\n",
       "    <tr>\n",
       "      <th>103</th>\n",
       "      <td>35534191</td>\n",
       "      <td>Lost in Thought</td>\n",
       "      <td>emesa</td>\n",
       "      <td>85986</td>\n",
       "      <td>long</td>\n",
       "      <td>Not Austen</td>\n",
       "      <td>0</td>\n",
       "      <td>{'air': 30, 'close': 44, 'nearly': 43, 'stifli...</td>\n",
       "      <td>6456</td>\n",
       "    </tr>\n",
       "  </tbody>\n",
       "</table>\n",
       "</div>"
      ],
      "text/plain": [
       "        text#                                   title                author  \\\n",
       "25   52705351                  The Meek Shall Inherit      AvonleaBrigadoon   \n",
       "81   30672131                           The Betrothal              Lupin111   \n",
       "90   40263168                         Regent Observer  TheUnpredictableMuse   \n",
       "99   33964492  Mrs. Elizabeth Collins of Rosings Park       dorotheabrooke1   \n",
       "103  35534191                         Lost in Thought                 emesa   \n",
       "\n",
       "      words text_length   is_Austen  is_Austen_bool  \\\n",
       "25    67407        long  Not Austen               0   \n",
       "81    64340        long  Not Austen               0   \n",
       "90   132259        long  Not Austen               0   \n",
       "99    63858        long  Not Austen               0   \n",
       "103   85986        long  Not Austen               0   \n",
       "\n",
       "                                          word_counter  unique_words  \n",
       "25   {'21': 17, 'july': 32, '1809': 10, 'sixteen': ...          5189  \n",
       "81   {'seems': 19, 'like': 73, 'lovely': 10, 'place...          5219  \n",
       "90   {'truth': 27, 'universally': 1, 'acknowledged'...          9079  \n",
       "99   {'introduction': 21, 'hi': 3, 'everyone': 27, ...          4312  \n",
       "103  {'air': 30, 'close': 44, 'nearly': 43, 'stifli...          6456  "
      ]
     },
     "execution_count": 13,
     "metadata": {},
     "output_type": "execute_result"
    }
   ],
   "source": [
    "md_long.head()"
   ]
  },
  {
   "cell_type": "code",
   "execution_count": null,
   "metadata": {},
   "outputs": [],
   "source": [
    "wc = WordCloud()\n",
    "\n",
    "id = 158\n",
    "counter_object = metadata.loc[metadata['text#'] == id]['word_counter'].reset_index(drop = True)[0]\n",
    "\n",
    "wc.generate_from_frequencies(counter_object)\n",
    "plt.figure(figsize = (10,6))\n",
    "plt.imshow(wc, interpolation='bilinear')\n",
    "plt.axis(\"off\");"
   ]
  },
  {
   "cell_type": "code",
   "execution_count": 18,
   "metadata": {},
   "outputs": [],
   "source": [
    "wc = WordCloud()\n",
    "\n",
    "# subset df\n",
    "ja_df = md_long[md_long['is_Austen_bool'] == 1]\n",
    "\n",
    "ja_counter = Counter()\n",
    "for counter in ja_df['word_counter']:\n",
    "    ja_counter += counter\n",
    "\n",
    "wc.generate_from_frequencies(ja_counter)\n",
    "plt.figure(figsize = (10, 6))\n",
    "plt.imshow(wc, interpolation = 'bilinear')\n",
    "plt.axis('off')\n",
    "\n",
    "plt.savefig(f'../images/ja_wordcloud.png', bbox_inches = 'tight', transparent = True)\n",
    "plt.close();"
   ]
  },
  {
   "cell_type": "code",
   "execution_count": 15,
   "metadata": {},
   "outputs": [
    {
     "data": {
      "text/plain": [
       "14164"
      ]
     },
     "execution_count": 15,
     "metadata": {},
     "output_type": "execute_result"
    }
   ],
   "source": [
    "len(ja_counter)"
   ]
  },
  {
   "cell_type": "code",
   "execution_count": 19,
   "metadata": {},
   "outputs": [],
   "source": [
    "wc = WordCloud()\n",
    "\n",
    "# subset df\n",
    "ff_df = md_long[md_long['is_Austen_bool'] == 0]\n",
    "\n",
    "ff_counter = Counter()\n",
    "for counter in ff_df['word_counter']:\n",
    "    ff_counter += counter\n",
    "\n",
    "wc.generate_from_frequencies(ff_counter)\n",
    "plt.figure(figsize = (10, 6))\n",
    "plt.imshow(wc, interpolation = 'bilinear')\n",
    "plt.axis('off')\n",
    "\n",
    "plt.savefig(f'../images/ff_wordcloud.png', bbox_inches = 'tight', transparent = True)\n",
    "plt.close();"
   ]
  },
  {
   "cell_type": "code",
   "execution_count": 20,
   "metadata": {},
   "outputs": [
    {
     "data": {
      "text/plain": [
       "34785"
      ]
     },
     "execution_count": 20,
     "metadata": {},
     "output_type": "execute_result"
    }
   ],
   "source": [
    "len(ff_counter)"
   ]
  },
  {
   "cell_type": "code",
   "execution_count": null,
   "metadata": {},
   "outputs": [],
   "source": []
  }
 ],
 "metadata": {
  "kernelspec": {
   "display_name": "base",
   "language": "python",
   "name": "python3"
  },
  "language_info": {
   "codemirror_mode": {
    "name": "ipython",
    "version": 3
   },
   "file_extension": ".py",
   "mimetype": "text/x-python",
   "name": "python",
   "nbconvert_exporter": "python",
   "pygments_lexer": "ipython3",
   "version": "3.11.9"
  }
 },
 "nbformat": 4,
 "nbformat_minor": 2
}
